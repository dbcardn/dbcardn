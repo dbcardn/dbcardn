{
 "cells": [
  {
   "cell_type": "markdown",
   "id": "71560a51",
   "metadata": {},
   "source": [
    "# Second portion of the final exam\n",
    "## Instructions\n",
    "\n",
    "This second portion of the final exam has 2 components.\n",
    "1. `Theoretical questions:` you will be asked to provide short derivations and/or a proof. For the `theoretical questions`, please write your answers on a paper sheet. When you are done, you should scan your work with your phone to upload it on Canvas, as you did for the assignments.\n",
    "2. `Coding in Python:` For the `coding questions`, you are given a code (below) which has a few missing parts. Your job is to complete it. The data for this exercise are in `ccapmmonthlydata.xls`. When you are done, you should upload your Python code on Canvas.\n",
    "\n",
    "In essence, you should upload `two files` on Canvas: (1) a `pdf of your handwritten answers` and (2) `your completed code`. \n",
    "\n",
    "Please `note`: You have a total of `2 hours` to finish both portions of the final exam (i.e., the multiple-choice questions on Canvas under 'Quizzes' and this theoretical+coding problem). Please, make sure you allocate your time efficiently.\n",
    "\n",
    "Good Luck!\n",
    "\n",
    "\n",
    "# GMM estimation of the Consumption CAPM\n",
    "## Description of the model\n",
    "Consider a representative investor who lives for two periods ($t$ and $t+1$) and has income $e_t$ in period $t$ and $e_{t+1}$ in period $t+1$. \n",
    "The utility function of the representative investor is: \n",
    "\\begin{equation*}\n",
    "U(c_t, c_{t+1})=u(c_t) + \\beta \\mathbb{E}_t[u(c_{t+1}].\n",
    "\\end{equation*}\n",
    "Assume that the utility function is logarithmic, that is\n",
    "\\begin{equation}\n",
    "u(c_t) = \\log(c_t),\n",
    "\\end{equation}\n",
    "where $\\log$ is, as always, the natural logarithm.\n",
    "\n",
    "The investor can invest in an asset by buying $\\vartheta$ shares at the unit price $p_t$. The asset's payoff $x_{t+1}$ in the second period is uncertain. The investor chooses how many units ($\\vartheta$) of the asset to buy in order to maximize her/his utility function:\n",
    "\\begin{equation*}\n",
    "\\underset{\\vartheta}{\\max} \\ \\log(c_t) + \\beta \\mathbb{E}_t\\left[\\log(c_{t+1})\\right],\n",
    "\\end{equation*}\n",
    "subject to the income/wealth constraints\n",
    "\\begin{eqnarray*}\n",
    "c_t &=& e_t - \\vartheta p_{t},\\\\\n",
    "c_{t+1} &=& e_{t+1} + \\vartheta x_{t+1}.\n",
    "\\end{eqnarray*}\n",
    "\n",
    "# `Question 1 (theory question)`\n",
    "## Solve the maximization problem of the investor and show that the price of the asset at time $t$ can be written as:\n",
    "$$\n",
    "p_{t}=\\mathbb{E}_{t}\\left[\\beta\\left(\\frac{c_{t}}{c_{t+1}}\\right)x_{t+1}\\right].\n",
    "$$\n",
    "\n",
    "\n",
    "\n",
    "\n",
    "# `Question 2 (theory question)`\n",
    "## Show that the pricing equation above can be written in terms of returns on the asset\n",
    "$$\n",
    "1=\\mathbb{E}_{t}\\left[\\beta\\left(\\frac{c_{t}}{c_{t+1}}\\right)\\left(1+R_{t+1}\\right)\\right].\n",
    "$$\n",
    "\n",
    "\n",
    "\n",
    "\n",
    "# `Question 3 (theory question)`\n",
    "## Show that the equation in the previous question can be written as an unconditional mean, rather than as a conditional mean. In other words, show the steps to get from \n",
    "$$\n",
    "1=\\mathbb{E}_{t}\\left[\\beta\\left(\\frac{c_{t}}{c_{t+1}}\\right)\\left(1+R_{t+1}\\right)\\right],\n",
    "$$\n",
    "\n",
    "## to \n",
    "$$\n",
    "\\mathbb{E}\\left[\\beta\\left(\\frac{c_{t}}{c_{t+1}}\\right)\\left(1+R_{t+1}\\right)-1\\right] = 0.\n",
    "$$\n"
   ]
  },
  {
   "cell_type": "markdown",
   "id": "048d3f1c",
   "metadata": {},
   "source": [
    "# `CODE`\n",
    "\n",
    "The theoretical moment conditions are\n",
    "$$\n",
    "\\mathbb{E}\\left[\\beta\\left(\\frac{c_{t}}{c_{t+1}}\\right)\\left(1+R_{t+1}^{i}\\right)-1\\right]=0 \n",
    "\\label{eq:theoretical_moments} \n",
    "$$\n",
    "for all assets $i=1,...,10$. The logic is simple: if the model is correct, expected pricing errors (written in terms of returns) should be zero for all assets.\n",
    "\n",
    "In this model we estimate only 1 parameter: $\\beta$ (which measures the impatience of the average investor in the market). The code below estimates the model's parameter $\\beta$ - and computes the corresponding standard error - using the data `ccapmmonthlydata.xls`. This is the same dataset that we used in class and you used in the homework. The code is `INCOMPLETE`. Answer `Question 4 through 8 below` to complete it."
   ]
  },
  {
   "cell_type": "markdown",
   "id": "3ff31e57",
   "metadata": {
    "jp-MarkdownHeadingCollapsed": true,
    "tags": []
   },
   "source": [
    "### Let us begin by uploading the main libraries."
   ]
  },
  {
   "cell_type": "code",
   "execution_count": null,
   "id": "40a8cd3a",
   "metadata": {},
   "outputs": [],
   "source": [
    "import os\n",
    "import pandas as pd\n",
    "import numpy as np\n",
    "import scipy.optimize\n",
    "from scipy.stats import t, norm, chi2\n",
    "from platform import python_version"
   ]
  },
  {
   "cell_type": "code",
   "execution_count": null,
   "id": "612c3a6f",
   "metadata": {},
   "outputs": [],
   "source": [
    "# The recommended python version is 3.8 or 3.9\n",
    "print(python_version())\n",
    "# Check current directory\n",
    "os.getcwd()"
   ]
  },
  {
   "cell_type": "markdown",
   "id": "f8eab952",
   "metadata": {},
   "source": [
    "# The data\n",
    "To estimate the model we need data on consumption growth and returns on assets. We use data on 10 risky assets and consumption growth from the file `ccapmmonthlydata.xls`. The data are monthly observations.\n",
    "\n",
    "This means that the variable `CONS_GROWTH` is the value of $\\frac{c_{t+1}}{c_t}$ and the other columns represent the returns on each asset (i.e., $R^{1}, ..., R^{10}$) for each period $t$. "
   ]
  },
  {
   "cell_type": "code",
   "execution_count": null,
   "id": "85a47bbd",
   "metadata": {},
   "outputs": [],
   "source": [
    "data = pd.read_excel('ccapmmonthlydata.xls')\n",
    "# data.describe()  #This command provides descriptive statistics for each colunm in the dataframe.\n",
    "\n",
    "# The 10 columns of asset return data\n",
    "ret = np.array(data.iloc[:, 2:])\n",
    "# consumption growth data (c_{t+1}/c_{t}) is in the first column\n",
    "cons = np.array(data.CONS_GROWTH)  \n",
    "# The number of assets\n",
    "number_assets = 10\n",
    "# The number of observations\n",
    "T = len(cons)"
   ]
  },
  {
   "cell_type": "markdown",
   "id": "7a994e31",
   "metadata": {},
   "source": [
    "# `Question 4 (coding)`\n",
    "## Complete the function `gmm` that computes the criterion function and the pricing errors for the GMM estimator in this model. This is the same GMM function that we have seen in class and you have already implemented ... `but the pricing errors are different`. "
   ]
  },
  {
   "cell_type": "markdown",
   "id": "5512ebc6",
   "metadata": {},
   "source": [
    "The criterion is the following quadratic form with weigths $W_T$:\n",
    "\n",
    "\\begin{eqnarray*}\n",
    "Q_T(\\beta) = \\underbrace{g_{T}(\\beta )^{\\top }}_{1\\times N}\\underbrace{W_{T}}_{N\\times N}\\underbrace{g_{T}(\\beta )}_{N\\times1},\n",
    "\\end{eqnarray*}\n",
    "\n",
    "where the vector $g_T(\\beta)$ is the empirical moment vector\n",
    "\n",
    "\\begin{eqnarray*}\n",
    "\\underbrace{g_T(\\beta)}_{N\\times1} &=& \\frac{1}{T}\\sum_{t=1}^{T-1}\\underbrace{g(X_{t+1},\\beta)}_{N\\times1} \\\\\n",
    "&=&\\frac{1}{T}\\sum_{t=1}^{T-1}\\begin{pmatrix} g^{1}(X_{t+1},\\theta) \\\\ g^{2}(X_{t+1},\\theta) \\\\ ... \\\\g^{N}(X_{t+1},\\beta)\\end{pmatrix} \\\\\n",
    "&=& \\frac{1}{T}\\sum_{t=1}^{T-1}\\begin{pmatrix} \\beta \\left(\\frac{c_{t}}{c_{t+1}}\\right)(1+R^1_{t+1,t})-1 \\\\ \\beta \\left(\\frac{c_{t}}{c_{t+1}}\\right)(1+R^2_{t+1,t})-1 \\\\ ... \\\\ \\beta \\left(\\frac{c_{t}}{c_{t+1}}\\right)(1+R^N_{t+1,t})-1\\end{pmatrix} \n",
    "\\end{eqnarray*}\n",
    "\n",
    "and $W_T$ is a square symmetric matrix of weights which we have to choose (see below).\n",
    "\n",
    "The function `gmm` has several **inputs**:\n",
    "\n",
    "1. `parameters` is a vector of parameters\n",
    "2. `cons` is the vector of consumption growth\n",
    "3. `ret` is the $T\\times N$ matrix containing the returns on all assets, one per column\n",
    "4. `W` is an $N\\times N$ matrix of weights\n",
    "5. `flag` is a string. If we use `criterion` the function `gmm` computes the criterion function $Q_T(\\beta)$; if we use `pricing error`, it returns a $T\\times N$ matrix containing the pricing errors for each time period (rows) and each asset (columns). \n",
    "\n",
    "The function `gmm` can, therefore, produce two **outputs**.\n",
    "1. If `flag = 'criterion`, it will output the value of $Q_T(\\beta) = g_T(\\beta)^{\\top} W_T g_T(\\beta)$\n",
    "2. If `flag = 'pricing error`, it will output the $T\\times N$ matrix of pricing errors, where each row represents a time period $t$ and each column is a different asset."
   ]
  },
  {
   "cell_type": "code",
   "execution_count": null,
   "id": "e21af4eb",
   "metadata": {},
   "outputs": [],
   "source": [
    "def gmm(parameter, cons, ret, W, flag):\n",
    "\n",
    "    p_error = np.zeros([T, number_assets])          # The matrix in which we are going to store the pricing errors\n",
    "                                                    # The rows are time periods, the columns are assets\n",
    "\n",
    "    # The following loop creates the pricing errors for each period and each asset    \n",
    "    \n",
    "    ##################################################\n",
    "    # COMPLETE THE CODE BELOW\n",
    "    ##################################################\n",
    "    \n",
    "     for j in range(number_assets):      \n",
    "        p_error[:,j] = \n",
    "\n",
    "    ##################################################\n",
    "    # END OF CODE TO BE MODIFIED\n",
    "    ##################################################    \n",
    "\n",
    "    g = np.mean(p_error,axis=0)  # Note that this is a row vector\n",
    "    g = g.T                      # I transform it into column vector (to mirror the notation in the slides)\n",
    "    \n",
    "    if flag == 'criterion':\n",
    "        f = g.T @ W @ g            # returns Q_T(theta)\n",
    "    elif flag == 'pricing error':\n",
    "        f = p_error                # returns the pricing errors matrix, T x N\n",
    "    else:\n",
    "        print(\"error: you need to choose either 'pricing error'  or 'criterion'\")\n",
    "    return f"
   ]
  },
  {
   "cell_type": "markdown",
   "id": "21a61aae",
   "metadata": {},
   "source": [
    "## First-stage estimation\n",
    "Next, we find the parameters by **minimizing the GMM criterion**:\n",
    "We use `scipy.optimize.fmin` with the following inputs:\n",
    "\n",
    "1. `func`. The function to minimize - in our case `gmm` - as defined in the previous snippet.\n",
    "2. `x0`. The initial guess of the parameter $\\beta$: `initial_guess`. This is just our initial guess of the parameter for evaluating the function `gmm` at the beginning of the minimization.\n",
    "3. `args`. The arguments of the `gmm` function that are not parameters. For our problem, these are the data `cons` and `ret`, respectively. We have to provide the weight matrix `W` and the flag for the function `gmm` as well.\n",
    "\n",
    "Additional inputs that are optional:\n",
    "\n",
    "4. `xtol` and `ftol`. This is the tolerance for the minimizer and the function evaluation, respectively. The algorithm will stop automatically when it cannot find another minimizer that is smaller by at least `xtol` than the current one. Same as for the function evaluation. \n",
    "5. `maxiter`. The maximum number of iterations to try. The algorithm stops if it reaches `maxiter` attempts, even if it did not find a minimum.\n",
    "6. `disp`. A variable indicating whether we want to see some results or not. `disp=0` will not show results, `disp=1` will provide additional information."
   ]
  },
  {
   "cell_type": "code",
   "execution_count": null,
   "id": "5cad74e1",
   "metadata": {},
   "outputs": [],
   "source": [
    "# First-stage weight matrix (the identity matrix)\n",
    "W = np.eye(number_assets)\n",
    "                         \n",
    "# parameters used to initialize the optimization\n",
    "initial_guess = 0.5\n",
    "\n",
    "# minimize the gmm criterion to find the parameters estimates\n",
    "estimates = scipy.optimize.fmin(func=gmm, \n",
    "                                  x0=initial_guess, \n",
    "                                  args=(cons, ret, W, 'criterion'), \n",
    "                                  xtol=1e-5, \n",
    "                                  ftol=1e-5,\n",
    "                                  maxiter = 100000,\n",
    "                                  disp=0)\n",
    "\n",
    "# The first-stage parameter estimates\n",
    "print(f'The first-stage estimate of the parameter is {estimates[0]:.3f}')"
   ]
  },
  {
   "cell_type": "markdown",
   "id": "870e6f65",
   "metadata": {},
   "source": [
    "# `Question 5 (theory + coding)`\n",
    "## Write (on your piece of paper) the formula for the matrix $\\Phi_0$ and its estimator $\\widehat{\\Phi}_0$, so that you can compute the optimal weight matrix. Complete the code to compute the value of the matrix. "
   ]
  },
  {
   "cell_type": "code",
   "execution_count": null,
   "id": "049229f8",
   "metadata": {},
   "outputs": [],
   "source": [
    "####################################################################\n",
    "# We compute the optimal weight matrix using the first-stage estimate\n",
    "####################################################################\n",
    "\n",
    "    ##################################################\n",
    "    # COMPLETE THE CODE BELOW \n",
    "    ##################################################\n",
    "    \n",
    "    # The pricing errors evaluated at the first-stage estimate\n",
    "    g_opt = gmm(estimates[0], cons,ret, W, 'pricing error');     \n",
    "\n",
    "    # Phi_hat.\n",
    "    Phi_hat = np.zeros([number_assets, number_assets])\n",
    "    for j in range(T):\n",
    "        Phi_hat = \n",
    "\n",
    "\n",
    "    ##################################################\n",
    "    # END OF CODE TO BE MODIFIED\n",
    "    ##################################################\n",
    "\n",
    "# The optimal weight matrix is just the inverse of Phi_hat    \n",
    "W_opt = np.linalg.inv(Phi_hat)"
   ]
  },
  {
   "cell_type": "markdown",
   "id": "2834818e",
   "metadata": {},
   "source": [
    "## Second-stage estimation (using optimal weight matrix `W_opt`)"
   ]
  },
  {
   "cell_type": "code",
   "execution_count": null,
   "id": "e625ef38",
   "metadata": {},
   "outputs": [],
   "source": [
    "# Second-stage estimation \n",
    "estimates_opt = scipy.optimize.fmin(func=gmm, \n",
    "                                    x0=initial_guess, \n",
    "                                    args=(cons, ret, W_opt, 'criterion'), \n",
    "                                    xtol=1e-5, \n",
    "                                    ftol=1e-5, \n",
    "                                    disp=0)\n",
    "\n",
    "# The second-stage parameter estimates\n",
    "print(f'The second-stage estimate of the parameter is {estimates_opt[0]:.3f}')"
   ]
  },
  {
   "cell_type": "markdown",
   "id": "be4b47b8",
   "metadata": {},
   "source": [
    "# `Question 6 (theory + coding)`\n",
    "## Write (on your piece of paper) the formula for the matrix $\\Gamma_0$ and its estimator $\\widehat{\\Gamma}_0$. Complete the code to compute the value of this matrix and that of $\\widehat{\\Phi}_0$. Both are needed for the computation of the standard error of the parameter $\\beta$. "
   ]
  },
  {
   "cell_type": "code",
   "execution_count": null,
   "id": "ce9ee854",
   "metadata": {},
   "outputs": [],
   "source": [
    "     ##################################################\n",
    "     # COMPLETE THE CODE BELOW \n",
    "     ##################################################\n",
    "\n",
    "#############################\n",
    "# Estimate Phi_hat\n",
    "##############################\n",
    "\n",
    "# The pricing errors evaluated at the optimal second-stage estimates\n",
    "g_opt2 = gmm(estimates_opt, cons, ret, W_opt, 'pricing error')\n",
    "\n",
    "# Phi_hat \n",
    "Phi_hat2 = np.zeros([number_assets, number_assets])\n",
    "for j in range(T):\n",
    "    Phi_hat2 = \n",
    "\n",
    "invPhi_hat2 = np.linalg.inv(Phi_hat2)  # This is the inverse of Phi_hat\n",
    "\n",
    "#############################\n",
    "# Estimate Gamma_hat\n",
    "##############################\n",
    "\n",
    "# we use derivatives directly in the loop\n",
    "Gamma_hat = np.zeros([number_assets, 1])\n",
    "for i in range(number_assets):\n",
    "    Gamma_hat[i, 0] = \n",
    "    \n",
    "    ##################################################\n",
    "    # END OF CODE TO BE MODIFIED\n",
    "    ##################################################    \n",
    "\n",
    "    \n",
    "################################\n",
    "# Putting everything together: The estimated variance\n",
    "################################\n",
    "                               \n",
    "# compute the variance-covariance matrix of the parameter estimates\n",
    "VarCov = (1 / T) * np.linalg.inv(Gamma_hat.T @ invPhi_hat2 @ Gamma_hat)\n",
    "\n",
    "\n",
    "##################################\n",
    "# Standard errors and t-statistics\n",
    "###################################\n",
    "\n",
    "# the variances are on the diagonal\n",
    "var_diag = np.diag(VarCov);\n",
    "std_error = np.sqrt(var_diag);\n",
    "\n",
    "# t-statistics\n",
    "t_stats = estimates_opt/std_error     \n",
    "\n",
    "# table of parameters, standard errors and t statistics\n",
    "table_estimates = pd.DataFrame({'Stage 1': estimates, 'Stage 2': estimates_opt, 'Std Errors': std_error,\n",
    "                                't stats': t_stats }, index = ['beta'])\n",
    "print(table_estimates)"
   ]
  },
  {
   "cell_type": "markdown",
   "id": "68339d3d",
   "metadata": {},
   "source": [
    "# `Question 7 (theory + coding)`\n",
    "## Test the null hypothesis $H_0: \\beta = 1$. Write the test (on your piece of paper) and code it. Provide both the test statistic and the p-value of the test. Do you reject the null at the 0.05 significance level?"
   ]
  },
  {
   "cell_type": "code",
   "execution_count": null,
   "id": "9dc57d5f",
   "metadata": {},
   "outputs": [],
   "source": [
    "#############################\n",
    "# Test for H_0: beta = 1\n",
    "#################################\n",
    "\n",
    "    ##################################################\n",
    "    # COMPLETE THE CODE BELOW \n",
    "    ##################################################\n",
    "\n",
    "\n",
    "test_stat = \n",
    "pvalue = \n",
    "\n",
    "\n",
    "    ##################################################\n",
    "    # END OF CODE TO BE MODIFIED\n",
    "    ##################################################"
   ]
  },
  {
   "cell_type": "markdown",
   "id": "d3ab087e",
   "metadata": {},
   "source": [
    "# `Question 8 (theory + coding)`\n",
    "## Are all of the pricing errors equal to zero? You need to test for over-identifying restrictions using Hansen's test. Write the test (on your piece of paper) and code it. Provide both the test statistic and the p-value of the test. Do you reject the null hypothesis at the 0.05 significance level?"
   ]
  },
  {
   "cell_type": "code",
   "execution_count": null,
   "id": "4954c821",
   "metadata": {},
   "outputs": [],
   "source": [
    "#########################################\n",
    "# Test for over-identifying restrictions\n",
    "##########################################\n",
    "\n",
    "    ##################################################\n",
    "    # COMPLETE THE CODE BELOW\n",
    "    ##################################################\n",
    "\n",
    "test = \n",
    "Pvalue = \n",
    "\n",
    "    ##################################################\n",
    "    # END OF CODE TO BE MODIFIED\n",
    "    ##################################################    "
   ]
  },
  {
   "cell_type": "code",
   "execution_count": null,
   "id": "b1a3ea43",
   "metadata": {},
   "outputs": [],
   "source": []
  }
 ],
 "metadata": {
  "kernelspec": {
   "display_name": "Python 3 (ipykernel)",
   "language": "python",
   "name": "python3"
  },
  "language_info": {
   "codemirror_mode": {
    "name": "ipython",
    "version": 3
   },
   "file_extension": ".py",
   "mimetype": "text/x-python",
   "name": "python",
   "nbconvert_exporter": "python",
   "pygments_lexer": "ipython3",
   "version": "3.9.7"
  }
 },
 "nbformat": 4,
 "nbformat_minor": 5
}
